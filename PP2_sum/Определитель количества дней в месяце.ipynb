{
 "cells": [
  {
   "cell_type": "code",
   "execution_count": 11,
   "id": "102891d9",
   "metadata": {},
   "outputs": [
    {
     "name": "stdout",
     "output_type": "stream",
     "text": [
      "Февраль\n",
      "2000\n",
      "29\n"
     ]
    }
   ],
   "source": [
    "month = input()\n",
    "year = int(input())\n",
    "\n",
    "d = {'30':['Апрель', 'Июнь', 'Сентябрь', 'Ноябрь'],\n",
    "     '31':['Январь', 'Март', 'Май', 'Июль', 'Август', 'Октябрь', 'Декабрь'],\n",
    "     '28':['Февраль']}\n",
    "\n",
    "if year%4 == 0 and year%100 != 0 or year%400 == 0 and month == 'Февраль': print(29)\n",
    "else:\n",
    "    for days, months in d.items():\n",
    "        if month in months:\n",
    "            print(days)"
   ]
  }
 ],
 "metadata": {
  "kernelspec": {
   "display_name": "Python 3 (ipykernel)",
   "language": "python",
   "name": "python3"
  },
  "language_info": {
   "codemirror_mode": {
    "name": "ipython",
    "version": 3
   },
   "file_extension": ".py",
   "mimetype": "text/x-python",
   "name": "python",
   "nbconvert_exporter": "python",
   "pygments_lexer": "ipython3",
   "version": "3.9.12"
  }
 },
 "nbformat": 4,
 "nbformat_minor": 5
}
