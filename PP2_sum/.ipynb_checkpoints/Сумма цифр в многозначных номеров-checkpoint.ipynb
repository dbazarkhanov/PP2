{
 "cells": [
  {
   "cell_type": "code",
   "execution_count": 4,
   "id": "b12bc6f9",
   "metadata": {},
   "outputs": [
    {
     "name": "stdout",
     "output_type": "stream",
     "text": [
      "1234344463756\n",
      "52\n"
     ]
    }
   ],
   "source": [
    "num = input()\n",
    "sumOfDigits = 0\n",
    "for i in num:\n",
    "    sumOfDigits += int(i)\n",
    "print(sumOfDigits)"
   ]
  },
  {
   "cell_type": "code",
   "execution_count": null,
   "id": "0275c98b",
   "metadata": {},
   "outputs": [],
   "source": []
  }
 ],
 "metadata": {
  "kernelspec": {
   "display_name": "Python 3 (ipykernel)",
   "language": "python",
   "name": "python3"
  },
  "language_info": {
   "codemirror_mode": {
    "name": "ipython",
    "version": 3
   },
   "file_extension": ".py",
   "mimetype": "text/x-python",
   "name": "python",
   "nbconvert_exporter": "python",
   "pygments_lexer": "ipython3",
   "version": "3.9.12"
  }
 },
 "nbformat": 4,
 "nbformat_minor": 5
}
