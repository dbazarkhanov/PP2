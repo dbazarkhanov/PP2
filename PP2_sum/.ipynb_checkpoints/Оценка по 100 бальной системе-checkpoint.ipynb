{
 "cells": [
  {
   "cell_type": "code",
   "execution_count": 8,
   "id": "1046e3e7",
   "metadata": {},
   "outputs": [
    {
     "name": "stdout",
     "output_type": "stream",
     "text": [
      "100\n",
      "A\n"
     ]
    }
   ],
   "source": [
    "mark = int(input())\n",
    "\n",
    "if mark < 50: print('Fail')\n",
    "elif mark in range(50, 55): print('D')\n",
    "elif mark in range(55, 60): print('D+')\n",
    "elif mark in range(60, 65): print('C-')\n",
    "elif mark in range(65, 70): print('C')\n",
    "elif mark in range(70, 75): print('C+')\n",
    "elif mark in range(75, 80): print('B-')\n",
    "elif mark in range(80, 85): print('B')\n",
    "elif mark in range(85, 90): print('B+')\n",
    "elif mark in range(90, 95): print('A-')\n",
    "elif mark in range(95, 101): print('A')"
   ]
  }
 ],
 "metadata": {
  "kernelspec": {
   "display_name": "Python 3 (ipykernel)",
   "language": "python",
   "name": "python3"
  },
  "language_info": {
   "codemirror_mode": {
    "name": "ipython",
    "version": 3
   },
   "file_extension": ".py",
   "mimetype": "text/x-python",
   "name": "python",
   "nbconvert_exporter": "python",
   "pygments_lexer": "ipython3",
   "version": "3.9.12"
  }
 },
 "nbformat": 4,
 "nbformat_minor": 5
}
