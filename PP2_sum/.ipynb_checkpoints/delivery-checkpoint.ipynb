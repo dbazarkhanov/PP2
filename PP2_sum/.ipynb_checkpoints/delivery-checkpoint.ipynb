{
 "cells": [
  {
   "cell_type": "code",
   "execution_count": 13,
   "id": "838ea84a",
   "metadata": {},
   "outputs": [
    {
     "name": "stdout",
     "output_type": "stream",
     "text": [
      "5\n",
      "21.950\n"
     ]
    }
   ],
   "source": [
    "def func(x):\n",
    "    bill = 0\n",
    "    for i in range(int(x)):\n",
    "        if i == 0: bill += 9.99\n",
    "        else: bill += 2.99\n",
    "    return '{:.3f}'.format(bill)\n",
    "\n",
    "print(func(input()))"
   ]
  }
 ],
 "metadata": {
  "kernelspec": {
   "display_name": "Python 3 (ipykernel)",
   "language": "python",
   "name": "python3"
  },
  "language_info": {
   "codemirror_mode": {
    "name": "ipython",
    "version": 3
   },
   "file_extension": ".py",
   "mimetype": "text/x-python",
   "name": "python",
   "nbconvert_exporter": "python",
   "pygments_lexer": "ipython3",
   "version": "3.9.12"
  }
 },
 "nbformat": 4,
 "nbformat_minor": 5
}
