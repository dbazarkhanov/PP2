{
 "cells": [
  {
   "cell_type": "code",
   "execution_count": 4,
   "id": "c15afbfd",
   "metadata": {},
   "outputs": [
    {
     "name": "stdout",
     "output_type": "stream",
     "text": [
      "1000\n",
      "1 year:  1040.00\n",
      "2 year:  1081.60\n",
      "3 year:  1124.86\n"
     ]
    }
   ],
   "source": [
    "dep = float(input())\n",
    "p = 0.04\n",
    "\n",
    "for i in range(0, 3):\n",
    "    dep = dep + dep*p\n",
    "    print(str(i+1) + ' year: ', '{:.2f}'.format(dep))"
   ]
  }
 ],
 "metadata": {
  "kernelspec": {
   "display_name": "Python 3 (ipykernel)",
   "language": "python",
   "name": "python3"
  },
  "language_info": {
   "codemirror_mode": {
    "name": "ipython",
    "version": 3
   },
   "file_extension": ".py",
   "mimetype": "text/x-python",
   "name": "python",
   "nbconvert_exporter": "python",
   "pygments_lexer": "ipython3",
   "version": "3.9.12"
  }
 },
 "nbformat": 4,
 "nbformat_minor": 5
}
