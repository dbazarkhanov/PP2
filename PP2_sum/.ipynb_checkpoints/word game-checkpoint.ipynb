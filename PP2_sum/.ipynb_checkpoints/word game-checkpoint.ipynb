{
 "cells": [
  {
   "cell_type": "code",
   "execution_count": 6,
   "id": "44788c36",
   "metadata": {},
   "outputs": [
    {
     "name": "stdout",
     "output_type": "stream",
     "text": [
      "kbtu\n",
      "10\n"
     ]
    }
   ],
   "source": [
    "points = {'1':['A', 'E', 'I', 'L', 'N', 'O', 'R', 'S', 'T', 'U'],\n",
    "          '2':['D', 'G'],\n",
    "          '3':['B', 'C', 'M', 'P'],\n",
    "          '4':['F', 'H', 'V', 'W', 'Y',],\n",
    "          '5':['K'],\n",
    "          '8':['J', 'X'],\n",
    "          '10':['Q', 'Z']}\n",
    "\n",
    "your_points = 0\n",
    "\n",
    "s = input().upper()\n",
    "\n",
    "for i in s:\n",
    "    for k, v in points.items():\n",
    "        if i in v:\n",
    "            your_points += int(k)\n",
    "\n",
    "print(your_points)"
   ]
  }
 ],
 "metadata": {
  "kernelspec": {
   "display_name": "Python 3 (ipykernel)",
   "language": "python",
   "name": "python3"
  },
  "language_info": {
   "codemirror_mode": {
    "name": "ipython",
    "version": 3
   },
   "file_extension": ".py",
   "mimetype": "text/x-python",
   "name": "python",
   "nbconvert_exporter": "python",
   "pygments_lexer": "ipython3",
   "version": "3.9.12"
  }
 },
 "nbformat": 4,
 "nbformat_minor": 5
}
