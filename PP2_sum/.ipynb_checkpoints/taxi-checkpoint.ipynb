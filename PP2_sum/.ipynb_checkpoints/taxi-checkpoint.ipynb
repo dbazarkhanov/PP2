{
 "cells": [
  {
   "cell_type": "code",
   "execution_count": 64,
   "id": "beafec1d",
   "metadata": {},
   "outputs": [
    {
     "name": "stdout",
     "output_type": "stream",
     "text": [
      "1\n",
      "6.667\n",
      "6.667\n"
     ]
    }
   ],
   "source": [
    "cash = float(5)\n",
    "\n",
    "d = float(input())*1000\n",
    "\n",
    "for i in range(0, int(d)+1, 150):\n",
    "    if i == 0: continue\n",
    "    cash += 0.25\n",
    "    l = d-i\n",
    "\n",
    "if l != 0:\n",
    "    cash = cash + l*(25/150)/100\n",
    "    #print('check')\n",
    "\n",
    "print('{:.3f}'.format(cash))"
   ]
  }
 ],
 "metadata": {
  "kernelspec": {
   "display_name": "Python 3 (ipykernel)",
   "language": "python",
   "name": "python3"
  },
  "language_info": {
   "codemirror_mode": {
    "name": "ipython",
    "version": 3
   },
   "file_extension": ".py",
   "mimetype": "text/x-python",
   "name": "python",
   "nbconvert_exporter": "python",
   "pygments_lexer": "ipython3",
   "version": "3.9.12"
  }
 },
 "nbformat": 4,
 "nbformat_minor": 5
}
