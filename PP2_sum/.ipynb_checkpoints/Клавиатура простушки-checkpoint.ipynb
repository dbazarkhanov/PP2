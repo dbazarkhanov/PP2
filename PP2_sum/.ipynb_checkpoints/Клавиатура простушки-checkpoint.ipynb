{
 "cells": [
  {
   "cell_type": "code",
   "execution_count": 1,
   "id": "49a3fe0a",
   "metadata": {},
   "outputs": [
    {
     "name": "stdout",
     "output_type": "stream",
     "text": [
      "к б т у\n",
      "444022066606666"
     ]
    }
   ],
   "source": [
    "keys = {'2':'абвг', '3':'дежз', '4':'ийкл', '5':'мноп', '6':'рсту', '7':'фхцч', '8':'шщъы', '9':'ьэюя', '0':' '}\n",
    "\n",
    "s = input()\n",
    "\n",
    "for i in s:\n",
    "    for k, v in keys.items():\n",
    "        if i in v:\n",
    "            for j in v:\n",
    "                print(k, end='')\n",
    "                if i == j: break"
   ]
  }
 ],
 "metadata": {
  "kernelspec": {
   "display_name": "Python 3 (ipykernel)",
   "language": "python",
   "name": "python3"
  },
  "language_info": {
   "codemirror_mode": {
    "name": "ipython",
    "version": 3
   },
   "file_extension": ".py",
   "mimetype": "text/x-python",
   "name": "python",
   "nbconvert_exporter": "python",
   "pygments_lexer": "ipython3",
   "version": "3.9.12"
  }
 },
 "nbformat": 4,
 "nbformat_minor": 5
}
