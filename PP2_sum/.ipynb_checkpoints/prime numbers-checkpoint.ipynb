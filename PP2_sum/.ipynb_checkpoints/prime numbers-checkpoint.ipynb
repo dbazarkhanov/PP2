{
 "cells": [
  {
   "cell_type": "code",
   "execution_count": 41,
   "id": "9e751a02",
   "metadata": {},
   "outputs": [
    {
     "name": "stdout",
     "output_type": "stream",
     "text": [
      "13\n",
      "True\n"
     ]
    }
   ],
   "source": [
    "def func(x):\n",
    "    if x > 1:\n",
    "        div = []\n",
    "        for i in range(1, x+1):\n",
    "            if x%i == 0:\n",
    "                div.append(i)\n",
    "        if len(div) == 2: return True\n",
    "        else: return False\n",
    "    else: return False\n",
    "    \n",
    "print(func(int(input())))"
   ]
  }
 ],
 "metadata": {
  "kernelspec": {
   "display_name": "Python 3 (ipykernel)",
   "language": "python",
   "name": "python3"
  },
  "language_info": {
   "codemirror_mode": {
    "name": "ipython",
    "version": 3
   },
   "file_extension": ".py",
   "mimetype": "text/x-python",
   "name": "python",
   "nbconvert_exporter": "python",
   "pygments_lexer": "ipython3",
   "version": "3.9.12"
  }
 },
 "nbformat": 4,
 "nbformat_minor": 5
}
