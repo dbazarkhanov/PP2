{
 "cells": [
  {
   "cell_type": "code",
   "execution_count": 7,
   "id": "ec36075f",
   "metadata": {},
   "outputs": [
    {
     "name": "stdout",
     "output_type": "stream",
     "text": [
      "123\n",
      "one hundred twenty three\n"
     ]
    }
   ],
   "source": [
    "#Создаю словарь с листом разрядов в значениях, так как в дальнейшем при вычислении разрядов остануться единицы\n",
    "o = {1:['one', 'ten', 'one hundred'],\n",
    "     2:['two', 'twenty', 'two hundred'],\n",
    "     3:['three', 'thirty', 'three hundred'],\n",
    "     4:['four', 'forty', 'four hundred'],\n",
    "     5:['five', 'fifty', 'five hundred'],\n",
    "     6:['six', 'sixty', 'six hundred'],\n",
    "     7:['seven', 'seventy', 'seven hundred'],\n",
    "     8:['eight', 'eighty', 'eight hundred'],\n",
    "     9:['nine', 'ninety', 'nine hundred']}\n",
    "\n",
    "#Объявляю число\n",
    "n = int(input())\n",
    "\n",
    "#Вывожу число в прописном виде одновременно с этим вычисляя разряды\n",
    "print(o[n//100][2], o[n%100//10][1], o[n%10][0], sep=' ')"
   ]
  }
 ],
 "metadata": {
  "kernelspec": {
   "display_name": "Python 3 (ipykernel)",
   "language": "python",
   "name": "python3"
  },
  "language_info": {
   "codemirror_mode": {
    "name": "ipython",
    "version": 3
   },
   "file_extension": ".py",
   "mimetype": "text/x-python",
   "name": "python",
   "nbconvert_exporter": "python",
   "pygments_lexer": "ipython3",
   "version": "3.9.12"
  }
 },
 "nbformat": 4,
 "nbformat_minor": 5
}
