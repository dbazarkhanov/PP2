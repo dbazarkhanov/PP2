{
 "cells": [
  {
   "cell_type": "code",
   "execution_count": 8,
   "id": "a524c69d",
   "metadata": {},
   "outputs": [
    {
     "name": "stdout",
     "output_type": "stream",
     "text": [
      "1223\n",
      "Tax:  146.76\n",
      "Tips:  220.14\n",
      "Bill:  1589.90\n"
     ]
    }
   ],
   "source": [
    "order = float(input())\n",
    "tips = order*0.18\n",
    "taxes = order*0.12\n",
    "bill = order + tips + taxes\n",
    "\n",
    "print('Tax: ', '{:.2f}'.format(taxes))\n",
    "print('Tips: ', '{:.2f}'.format(tips))\n",
    "print('Bill: ', '{:.2f}'.format(bill))"
   ]
  }
 ],
 "metadata": {
  "kernelspec": {
   "display_name": "Python 3 (ipykernel)",
   "language": "python",
   "name": "python3"
  },
  "language_info": {
   "codemirror_mode": {
    "name": "ipython",
    "version": 3
   },
   "file_extension": ".py",
   "mimetype": "text/x-python",
   "name": "python",
   "nbconvert_exporter": "python",
   "pygments_lexer": "ipython3",
   "version": "3.9.12"
  }
 },
 "nbformat": 4,
 "nbformat_minor": 5
}
