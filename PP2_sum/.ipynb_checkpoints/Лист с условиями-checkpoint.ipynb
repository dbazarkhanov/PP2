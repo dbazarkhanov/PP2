{
 "cells": [
  {
   "cell_type": "code",
   "execution_count": 1,
   "id": "38d8fc6d",
   "metadata": {},
   "outputs": [],
   "source": [
    "a = list([1, 2, 3, 3, 7, 9, 22, 29, 4, 4, 6, 30, 100])"
   ]
  },
  {
   "cell_type": "code",
   "execution_count": null,
   "id": "3ba7bab6",
   "metadata": {},
   "outputs": [],
   "source": [
    "for i in a:\n",
    "    if i < 5: print(i, end=' ')"
   ]
  },
  {
   "cell_type": "code",
   "execution_count": 2,
   "id": "dbc49242",
   "metadata": {},
   "outputs": [
    {
     "name": "stdout",
     "output_type": "stream",
     "text": [
      "1 3 3 7 9 29 "
     ]
    }
   ],
   "source": [
    "for i in a:\n",
    "    if i%2 == 1: print(i, end=' ')"
   ]
  }
 ],
 "metadata": {
  "kernelspec": {
   "display_name": "Python 3 (ipykernel)",
   "language": "python",
   "name": "python3"
  },
  "language_info": {
   "codemirror_mode": {
    "name": "ipython",
    "version": 3
   },
   "file_extension": ".py",
   "mimetype": "text/x-python",
   "name": "python",
   "nbconvert_exporter": "python",
   "pygments_lexer": "ipython3",
   "version": "3.9.12"
  }
 },
 "nbformat": 4,
 "nbformat_minor": 5
}
