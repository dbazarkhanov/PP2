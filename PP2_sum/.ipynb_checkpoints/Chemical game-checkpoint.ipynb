{
 "cells": [
  {
   "cell_type": "code",
   "execution_count": 12,
   "id": "723fd536",
   "metadata": {},
   "outputs": [
    {
     "name": "stdout",
     "output_type": "stream",
     "text": [
      "boron\n",
      "neon\n",
      "neon\n",
      "boron - neon - ERROR: This element is in the same row as previous\n"
     ]
    }
   ],
   "source": [
    "#Рекурсия\n",
    "def recur(element, prev_element, all_prev_elements, all_elements):\n",
    "    #Ошибка при несуществующем элементе\n",
    "    if element not in all_elements:\n",
    "        return 'ERROR: This element doesn\\'t exist'\n",
    "    #Для первичного входа, так как при первом входе предыдущий элемент неизвестен,\n",
    "    #тем самым он не входит в условие prev_element[-1] == element[0]\n",
    "    elif prev_element == '':\n",
    "        #Сохраняю последний элемент\n",
    "        prev_element = element\n",
    "        #Заполняю ряд использованных элементов\n",
    "        all_prev_elements.append(element)\n",
    "        return element + ' - ' + recur(input().lower(), prev_element, all_prev_elements, all_elements)\n",
    "    #Проверка на нахождения следующего элемента в ряду\n",
    "    if element in all_prev_elements:\n",
    "        return 'ERROR: This element is in the same row as previous'\n",
    "    #Проверка на совпадение последней буквы с начальной следующего элемента\n",
    "    elif prev_element[-1] == element[0]:\n",
    "        prev_element = element\n",
    "        all_prev_elements.append(element)\n",
    "        return element + ' - ' + recur(input().lower(), prev_element, all_prev_elements, all_elements)\n",
    "\n",
    "#Словарь для проверки в одном ли ряду элементы\n",
    "all_prev_elements = list([])\n",
    "#Лист для проверки несуществующего элемента\n",
    "all_elements = ['hydrogen', 'helium', 'lithium', 'beryllium', 'boron', 'carbon', 'nitrogen', 'oxygen', 'fluorine', 'neon',\n",
    "                'magnesium', 'magnesium', 'aluminium', 'silicon', 'phosphorus', 'sulphur', 'chlorine', 'argon',\n",
    "                'potassium', 'calcium', 'scandium', 'titanium', 'vanadium', 'chromium', 'manganese', 'iron', 'cobalt', 'nickel',\n",
    "                'copper', 'zinc', 'gallium', 'germanium', 'arsenic', 'selenium', 'bromine', 'krypton',\n",
    "                'rubidium', 'strontium', 'yttrium', 'zirconium', 'niobium', 'molybdenum', 'technetium', 'ruthenium', 'rhodium', 'palladium',\n",
    "                'silver', 'cadmium', 'indium', 'tin', 'antimony', 'tellurium', 'iodine', 'xenon',\n",
    "                'caesium', 'barium', 'lanthanum', 'hafnium', 'tantalum', 'tungsten', 'rhenium', 'osmium', 'iridium', 'platinum',\n",
    "                'gold', 'mercury', 'thallium', 'lead', 'bismuth', 'polonium', 'astatine', 'radon',\n",
    "                'francium', 'radium', 'actinium', 'rutherfordiumm', 'dubnium', 'tungsten', 'seaborgium', 'bohrium', 'hassium', 'meitnerium', 'darmstadtium']\n",
    "\n",
    "#Я не добавил некоторые элементы, так как не понял в каком ряду они должны находиться\n",
    "#В случае чего можно просто добавить их в словарь и лист\n",
    "print(recur(input().lower(), '', all_prev_elements, all_elements))"
   ]
  }
 ],
 "metadata": {
  "kernelspec": {
   "display_name": "Python 3 (ipykernel)",
   "language": "python",
   "name": "python3"
  },
  "language_info": {
   "codemirror_mode": {
    "name": "ipython",
    "version": 3
   },
   "file_extension": ".py",
   "mimetype": "text/x-python",
   "name": "python",
   "nbconvert_exporter": "python",
   "pygments_lexer": "ipython3",
   "version": "3.9.12"
  }
 },
 "nbformat": 4,
 "nbformat_minor": 5
}
