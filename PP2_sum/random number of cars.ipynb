{
 "cells": [
  {
   "cell_type": "code",
   "execution_count": 33,
   "id": "f160e269",
   "metadata": {},
   "outputs": [
    {
     "name": "stdout",
     "output_type": "stream",
     "text": [
      "0014HBI\n"
     ]
    }
   ],
   "source": [
    "import random\n",
    "\n",
    "def func(n):\n",
    "    w = 'ABCDEFGHIJKELMNOPQRSTUVWXYZ'\n",
    "    x = ''\n",
    "    if n == 1:\n",
    "        for i in range(4):\n",
    "            x += str(random.randint(0, 9))\n",
    "        for i in range(3):\n",
    "            x += random.choice(w)\n",
    "    elif n == 0:\n",
    "        for i in range(3):\n",
    "            x += random.choice(w)\n",
    "        for i in range(3):\n",
    "            x += str(random.randint(0, 9))\n",
    "    return x\n",
    "        \n",
    "print(func(random.randint(0, 1)))"
   ]
  }
 ],
 "metadata": {
  "kernelspec": {
   "display_name": "Python 3 (ipykernel)",
   "language": "python",
   "name": "python3"
  },
  "language_info": {
   "codemirror_mode": {
    "name": "ipython",
    "version": 3
   },
   "file_extension": ".py",
   "mimetype": "text/x-python",
   "name": "python",
   "nbconvert_exporter": "python",
   "pygments_lexer": "ipython3",
   "version": "3.9.12"
  }
 },
 "nbformat": 4,
 "nbformat_minor": 5
}
