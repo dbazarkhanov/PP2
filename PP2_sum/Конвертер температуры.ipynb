{
 "cells": [
  {
   "cell_type": "code",
   "execution_count": 12,
   "id": "0a405972",
   "metadata": {},
   "outputs": [
    {
     "name": "stdout",
     "output_type": "stream",
     "text": [
      "0\n",
      " °C     °K     °F\n",
      "0.0 | 273.0 | 32.0\n"
     ]
    }
   ],
   "source": [
    "C = float(input())\n",
    "K = C + 273\n",
    "F = 32 + C*1.8\n",
    "\n",
    "print(' °C', ' °K', ' °F', sep='    ')\n",
    "print(C, K, F, sep=' | ')"
   ]
  }
 ],
 "metadata": {
  "kernelspec": {
   "display_name": "Python 3 (ipykernel)",
   "language": "python",
   "name": "python3"
  },
  "language_info": {
   "codemirror_mode": {
    "name": "ipython",
    "version": 3
   },
   "file_extension": ".py",
   "mimetype": "text/x-python",
   "name": "python",
   "nbconvert_exporter": "python",
   "pygments_lexer": "ipython3",
   "version": "3.9.12"
  }
 },
 "nbformat": 4,
 "nbformat_minor": 5
}
