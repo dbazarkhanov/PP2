{
 "cells": [
  {
   "cell_type": "code",
   "execution_count": 24,
   "id": "6aa455be",
   "metadata": {},
   "outputs": [
    {
     "name": "stdout",
     "output_type": "stream",
     "text": [
      "abcde\n",
      "Alpha Bravo Charlie Delta Echo\n"
     ]
    }
   ],
   "source": [
    "def recur(s, n, d):\n",
    "    if n == 1:\n",
    "        return d[s[-n]]\n",
    "    else:\n",
    "        if s[-n] not in d.keys(): n -= 1\n",
    "        else: return d[s[-n]] + ' ' + recur(s, n-1, d)\n",
    "\n",
    "d = {'A':'Alpha', 'B':'Bravo', 'C':'Charlie', 'D':'Delta', 'E':'Echo',\n",
    "     'F':'Foxtrot', 'G':'Golf', 'H':'Hotel', 'I':'India', 'J':'Juliet', \n",
    "     'K':'Kilo', 'L':'Lima', 'M':'Mike', 'N':'November', 'O':'Oscar',\n",
    "     'P':'Papa', 'Q':'Quebec', 'R':'Romeo', 'S':'Sierra', 'T':'Tango',\n",
    "     'U':'Uniform', 'V':'Victor', 'W':'Whiskey', 'X':'Xray', 'Y':'Yankee',\n",
    "     'Z':'Zulu'}\n",
    "\n",
    "s = input().upper()\n",
    "print(recur(s, len(s), d))"
   ]
  }
 ],
 "metadata": {
  "kernelspec": {
   "display_name": "Python 3 (ipykernel)",
   "language": "python",
   "name": "python3"
  },
  "language_info": {
   "codemirror_mode": {
    "name": "ipython",
    "version": 3
   },
   "file_extension": ".py",
   "mimetype": "text/x-python",
   "name": "python",
   "nbconvert_exporter": "python",
   "pygments_lexer": "ipython3",
   "version": "3.9.12"
  }
 },
 "nbformat": 4,
 "nbformat_minor": 5
}
