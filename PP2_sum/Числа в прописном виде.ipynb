{
 "cells": [
  {
   "cell_type": "code",
   "execution_count": 1,
   "id": "ec36075f",
   "metadata": {},
   "outputs": [
    {
     "name": "stdout",
     "output_type": "stream",
     "text": [
      "0\n"
     ]
    },
    {
     "ename": "IndexError",
     "evalue": "list index out of range",
     "output_type": "error",
     "traceback": [
      "\u001b[1;31m---------------------------------------------------------------------------\u001b[0m",
      "\u001b[1;31mIndexError\u001b[0m                                Traceback (most recent call last)",
      "Input \u001b[1;32mIn [1]\u001b[0m, in \u001b[0;36m<cell line: 17>\u001b[1;34m()\u001b[0m\n\u001b[0;32m     14\u001b[0m n \u001b[38;5;241m=\u001b[39m \u001b[38;5;28mint\u001b[39m(\u001b[38;5;28minput\u001b[39m())\n\u001b[0;32m     16\u001b[0m \u001b[38;5;66;03m#Вывожу число в прописном виде одновременно с этим вычисляя разряды\u001b[39;00m\n\u001b[1;32m---> 17\u001b[0m \u001b[38;5;28mprint\u001b[39m(\u001b[43mo\u001b[49m\u001b[43m[\u001b[49m\u001b[43mn\u001b[49m\u001b[38;5;241;43m/\u001b[39;49m\u001b[38;5;241;43m/\u001b[39;49m\u001b[38;5;241;43m100\u001b[39;49m\u001b[43m]\u001b[49m\u001b[43m[\u001b[49m\u001b[38;5;241;43m2\u001b[39;49m\u001b[43m]\u001b[49m, o[n\u001b[38;5;241m%\u001b[39m\u001b[38;5;241m100\u001b[39m\u001b[38;5;241m/\u001b[39m\u001b[38;5;241m/\u001b[39m\u001b[38;5;241m10\u001b[39m][\u001b[38;5;241m1\u001b[39m], o[n\u001b[38;5;241m%\u001b[39m\u001b[38;5;241m10\u001b[39m][\u001b[38;5;241m0\u001b[39m], sep\u001b[38;5;241m=\u001b[39m\u001b[38;5;124m'\u001b[39m\u001b[38;5;124m \u001b[39m\u001b[38;5;124m'\u001b[39m)\n",
      "\u001b[1;31mIndexError\u001b[0m: list index out of range"
     ]
    }
   ],
   "source": [
    "#Создаю словарь с листом разрядов в значениях, так как в дальнейшем при вычислении разрядов остануться единицы\n",
    "o = {1:['one', 'ten', 'one hundred'],\n",
    "     2:['two', 'twenty', 'two hundred'],\n",
    "     3:['three', 'thirty', 'three hundred'],\n",
    "     4:['four', 'forty', 'four hundred'],\n",
    "     5:['five', 'fifty', 'five hundred'],\n",
    "     6:['six', 'sixty', 'six hundred'],\n",
    "     7:['seven', 'seventy', 'seven hundred'],\n",
    "     8:['eight', 'eighty', 'eight hundred'],\n",
    "     9:['nine', 'ninety', 'nine hundred']}\n",
    "\n",
    "#Объявляю число\n",
    "n = int(input())\n",
    "\n",
    "#Вывожу число в прописном виде одновременно с этим вычисляя разряды\n",
    "print(o[n//100][2], o[n%100//10][1], o[n%10][0], sep=' ')"
   ]
  }
 ],
 "metadata": {
  "kernelspec": {
   "display_name": "Python 3 (ipykernel)",
   "language": "python",
   "name": "python3"
  },
  "language_info": {
   "codemirror_mode": {
    "name": "ipython",
    "version": 3
   },
   "file_extension": ".py",
   "mimetype": "text/x-python",
   "name": "python",
   "nbconvert_exporter": "python",
   "pygments_lexer": "ipython3",
   "version": "3.9.12"
  }
 },
 "nbformat": 4,
 "nbformat_minor": 5
}
