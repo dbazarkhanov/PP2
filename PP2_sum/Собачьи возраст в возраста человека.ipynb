{
 "cells": [
  {
   "cell_type": "code",
   "execution_count": 1,
   "id": "2183b366",
   "metadata": {},
   "outputs": [
    {
     "name": "stdout",
     "output_type": "stream",
     "text": [
      "21\n",
      "2.0\n"
     ]
    }
   ],
   "source": [
    "human_age = float(input())\n",
    "dog_age = 0\n",
    "\n",
    "if human_age < 0:\n",
    "    print('ERROR')\n",
    "\n",
    "elif human_age <= 21:\n",
    "    dog_age += human_age/10.5\n",
    "    human_age -= 10.5\n",
    "    \n",
    "elif human_age > 21:\n",
    "    human_age -= 21\n",
    "    dog_age = 2\n",
    "    dog_age += human_age/4\n",
    "\n",
    "#print(dog_age, human_age, sep=' | ')\n",
    "print(dog_age)"
   ]
  }
 ],
 "metadata": {
  "kernelspec": {
   "display_name": "Python 3 (ipykernel)",
   "language": "python",
   "name": "python3"
  },
  "language_info": {
   "codemirror_mode": {
    "name": "ipython",
    "version": 3
   },
   "file_extension": ".py",
   "mimetype": "text/x-python",
   "name": "python",
   "nbconvert_exporter": "python",
   "pygments_lexer": "ipython3",
   "version": "3.9.12"
  }
 },
 "nbformat": 4,
 "nbformat_minor": 5
}
