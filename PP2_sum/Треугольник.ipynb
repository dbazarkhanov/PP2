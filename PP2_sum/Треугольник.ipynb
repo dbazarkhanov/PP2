{
 "cells": [
  {
   "cell_type": "code",
   "execution_count": null,
   "id": "3a129bf1",
   "metadata": {},
   "outputs": [],
   "source": [
    "import math\n",
    "AB = 5\n",
    "BC = 4\n",
    "AC = math.sqrt(AB**2-BC**2)\n",
    "P = AB+BC+AC\n",
    "S = (AB+AC)/2\n",
    "print(AC)\n",
    "print('Периметр равен: ' + str(P))\n",
    "print('Площадь равна: ' + str(S))"
   ]
  },
  {
   "cell_type": "code",
   "execution_count": null,
   "id": "4cdd14fe",
   "metadata": {},
   "outputs": [],
   "source": []
  }
 ],
 "metadata": {
  "kernelspec": {
   "display_name": "Python 3 (ipykernel)",
   "language": "python",
   "name": "python3"
  },
  "language_info": {
   "codemirror_mode": {
    "name": "ipython",
    "version": 3
   },
   "file_extension": ".py",
   "mimetype": "text/x-python",
   "name": "python",
   "nbconvert_exporter": "python",
   "pygments_lexer": "ipython3",
   "version": "3.9.12"
  }
 },
 "nbformat": 4,
 "nbformat_minor": 5
}
