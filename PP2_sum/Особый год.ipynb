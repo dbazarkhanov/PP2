{
 "cells": [
  {
   "cell_type": "code",
   "execution_count": 11,
   "id": "095acdca",
   "metadata": {},
   "outputs": [
    {
     "name": "stdout",
     "output_type": "stream",
     "text": [
      "08.07.1958\n",
      "Не особый год\n"
     ]
    }
   ],
   "source": [
    "d, m, y = map(int, input().split('.'))\n",
    "\n",
    "if 1900 < y < 2001:\n",
    "    if d*m == y-1900:\n",
    "        print('Особый год')\n",
    "    else: print('Не особый год')"
   ]
  }
 ],
 "metadata": {
  "kernelspec": {
   "display_name": "Python 3 (ipykernel)",
   "language": "python",
   "name": "python3"
  },
  "language_info": {
   "codemirror_mode": {
    "name": "ipython",
    "version": 3
   },
   "file_extension": ".py",
   "mimetype": "text/x-python",
   "name": "python",
   "nbconvert_exporter": "python",
   "pygments_lexer": "ipython3",
   "version": "3.9.12"
  }
 },
 "nbformat": 4,
 "nbformat_minor": 5
}
