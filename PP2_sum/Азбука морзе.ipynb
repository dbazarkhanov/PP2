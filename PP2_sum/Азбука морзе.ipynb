{
 "cells": [
  {
   "cell_type": "code",
   "execution_count": 1,
   "id": "ab5bf34c",
   "metadata": {},
   "outputs": [
    {
     "name": "stdout",
     "output_type": "stream",
     "text": [
      "ф\n",
      "••-•\n",
      "\n"
     ]
    },
    {
     "ename": "KeyError",
     "evalue": "'а'",
     "output_type": "error",
     "traceback": [
      "\u001b[1;31m---------------------------------------------------------------------------\u001b[0m",
      "\u001b[1;31mKeyError\u001b[0m                                  Traceback (most recent call last)",
      "Input \u001b[1;32mIn [1]\u001b[0m, in \u001b[0;36m<cell line: 14>\u001b[1;34m()\u001b[0m\n\u001b[0;32m     11\u001b[0m     \u001b[38;5;28mprint\u001b[39m(m[i\u001b[38;5;241m.\u001b[39mupper()], end\u001b[38;5;241m=\u001b[39m\u001b[38;5;124m'\u001b[39m\u001b[38;5;124m'\u001b[39m)\n\u001b[0;32m     13\u001b[0m \u001b[38;5;28mprint\u001b[39m(\u001b[38;5;124m'\u001b[39m\u001b[38;5;130;01m\\n\u001b[39;00m\u001b[38;5;124m'\u001b[39m)\n\u001b[1;32m---> 14\u001b[0m \u001b[38;5;28mprint\u001b[39m(\u001b[43mm\u001b[49m\u001b[43m[\u001b[49m\u001b[38;5;124;43m'\u001b[39;49m\u001b[38;5;124;43mа\u001b[39;49m\u001b[38;5;124;43m'\u001b[39;49m\u001b[43m]\u001b[49m)\n",
      "\u001b[1;31mKeyError\u001b[0m: 'а'"
     ]
    }
   ],
   "source": [
    "m = {'А':'•-', 'Б':'-•••', 'В':'•--', 'Г':'--•', 'Д':'-••', 'Е':'•', 'Ж':'•••-', 'З':'--••', 'И':'••', 'Й':'•---', 'К':'-•-',\n",
    "     'Л':'•-••', 'М':'--', 'Н':'-.', 'О':'---', 'П':'•--•', 'Р':'•-•', 'С':'•••', 'Т':'-', 'У':'••-', 'Ф':'••-•', 'Х':'••••',\n",
    "     'Ц':'-•-•', 'Ч':'---•', 'Ш':'----', 'Щ':'--•-', 'Ъ':'•--•-•', 'Ы':'-•--', 'Ь':'-••-', 'Э':'••-••', 'Ю':'••--', 'Я':'•-•-'}\n",
    "\n",
    "s = input()\n",
    "\n",
    "for i in s:\n",
    "    if i == ' ':\n",
    "        print(i, end='')\n",
    "        continue\n",
    "    print(m[i.upper()], end='')"
   ]
  }
 ],
 "metadata": {
  "kernelspec": {
   "display_name": "Python 3 (ipykernel)",
   "language": "python",
   "name": "python3"
  },
  "language_info": {
   "codemirror_mode": {
    "name": "ipython",
    "version": 3
   },
   "file_extension": ".py",
   "mimetype": "text/x-python",
   "name": "python",
   "nbconvert_exporter": "python",
   "pygments_lexer": "ipython3",
   "version": "3.9.12"
  }
 },
 "nbformat": 4,
 "nbformat_minor": 5
}
